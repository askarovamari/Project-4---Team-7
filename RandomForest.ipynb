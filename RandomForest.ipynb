{
 "cells": [
  {
   "cell_type": "code",
   "execution_count": 70,
   "metadata": {},
   "outputs": [],
   "source": [
    "import pandas as pd \n",
    "from pathlib import Path\n",
    "import numpy as np\n",
    "import sklearn\n",
    "from sklearn.ensemble import RandomForestClassifier\n",
    "from sklearn.cluster import KMeans\n",
    "from sklearn.decomposition import PCA\n",
    "from sklearn.preprocessing import StandardScaler\n",
    "from sklearn.model_selection import train_test_split\n",
    "from sklearn.ensemble import RandomForestRegressor\n",
    "from sklearn.metrics import mean_absolute_error"
   ]
  },
  {
   "cell_type": "code",
   "execution_count": 71,
   "metadata": {},
   "outputs": [
    {
     "name": "stdout",
     "output_type": "stream",
     "text": [
      "Index(['year', 'player_age', 'ab', 'pa', 'hit', 'single', 'double', 'triple',\n",
      "       'home_run', 'strikeout', 'walk', 'k_percent', 'bb_percent',\n",
      "       'batting_avg', 'slg_percent', 'on_base_percent', 'on_base_plus_slg',\n",
      "       'isolated_power', 'babip', 'woba', 'wobacon', 'bacon',\n",
      "       'exit_velocity_avg', 'launch_angle_avg', 'sweet_spot_percent', 'barrel',\n",
      "       'barrel_batted_rate', 'solidcontact_percent', 'flareburner_percent',\n",
      "       'poorlyunder_percent', 'poorlytopped_percent', 'poorlyweak_percent',\n",
      "       'hard_hit_percent', 'avg_best_speed', 'avg_hyper_speed',\n",
      "       'z_swing_percent', 'z_swing_miss_percent', 'oz_swing_percent',\n",
      "       'oz_swing_miss_percent', 'oz_contact_percent', 'out_zone_swing_miss',\n",
      "       'out_zone_swing', 'out_zone_percent', 'out_zone',\n",
      "       'meatball_swing_percent', 'iz_contact_percent', 'in_zone_swing_miss',\n",
      "       'in_zone_swing', 'whiff_percent', 'swing_percent', 'pull_percent',\n",
      "       'straightaway_percent', 'opposite_percent', 'batted_ball',\n",
      "       'f_strike_percent', 'groundballs_percent', 'groundballs',\n",
      "       'flyballs_percent', 'flyballs', 'linedrives_percent', 'linedrives',\n",
      "       'popups_percent', 'popups'],\n",
      "      dtype='object')\n"
     ]
    }
   ],
   "source": [
    "# Read in the CSV file as a Pandas Dataframe\n",
    "df = pd.read_csv(Path(\"resources/baseballdata.csv\"))\n",
    "df.set_index(\"last_name, first_name\", inplace=True)\n",
    "df.drop(columns=[\"player_id\"], inplace=True)\n",
    "print(df.columns)"
   ]
  },
  {
   "cell_type": "code",
   "execution_count": 72,
   "metadata": {},
   "outputs": [
    {
     "data": {
      "text/html": [
       "<style>#sk-container-id-5 {color: black;}#sk-container-id-5 pre{padding: 0;}#sk-container-id-5 div.sk-toggleable {background-color: white;}#sk-container-id-5 label.sk-toggleable__label {cursor: pointer;display: block;width: 100%;margin-bottom: 0;padding: 0.3em;box-sizing: border-box;text-align: center;}#sk-container-id-5 label.sk-toggleable__label-arrow:before {content: \"▸\";float: left;margin-right: 0.25em;color: #696969;}#sk-container-id-5 label.sk-toggleable__label-arrow:hover:before {color: black;}#sk-container-id-5 div.sk-estimator:hover label.sk-toggleable__label-arrow:before {color: black;}#sk-container-id-5 div.sk-toggleable__content {max-height: 0;max-width: 0;overflow: hidden;text-align: left;background-color: #f0f8ff;}#sk-container-id-5 div.sk-toggleable__content pre {margin: 0.2em;color: black;border-radius: 0.25em;background-color: #f0f8ff;}#sk-container-id-5 input.sk-toggleable__control:checked~div.sk-toggleable__content {max-height: 200px;max-width: 100%;overflow: auto;}#sk-container-id-5 input.sk-toggleable__control:checked~label.sk-toggleable__label-arrow:before {content: \"▾\";}#sk-container-id-5 div.sk-estimator input.sk-toggleable__control:checked~label.sk-toggleable__label {background-color: #d4ebff;}#sk-container-id-5 div.sk-label input.sk-toggleable__control:checked~label.sk-toggleable__label {background-color: #d4ebff;}#sk-container-id-5 input.sk-hidden--visually {border: 0;clip: rect(1px 1px 1px 1px);clip: rect(1px, 1px, 1px, 1px);height: 1px;margin: -1px;overflow: hidden;padding: 0;position: absolute;width: 1px;}#sk-container-id-5 div.sk-estimator {font-family: monospace;background-color: #f0f8ff;border: 1px dotted black;border-radius: 0.25em;box-sizing: border-box;margin-bottom: 0.5em;}#sk-container-id-5 div.sk-estimator:hover {background-color: #d4ebff;}#sk-container-id-5 div.sk-parallel-item::after {content: \"\";width: 100%;border-bottom: 1px solid gray;flex-grow: 1;}#sk-container-id-5 div.sk-label:hover label.sk-toggleable__label {background-color: #d4ebff;}#sk-container-id-5 div.sk-serial::before {content: \"\";position: absolute;border-left: 1px solid gray;box-sizing: border-box;top: 0;bottom: 0;left: 50%;z-index: 0;}#sk-container-id-5 div.sk-serial {display: flex;flex-direction: column;align-items: center;background-color: white;padding-right: 0.2em;padding-left: 0.2em;position: relative;}#sk-container-id-5 div.sk-item {position: relative;z-index: 1;}#sk-container-id-5 div.sk-parallel {display: flex;align-items: stretch;justify-content: center;background-color: white;position: relative;}#sk-container-id-5 div.sk-item::before, #sk-container-id-5 div.sk-parallel-item::before {content: \"\";position: absolute;border-left: 1px solid gray;box-sizing: border-box;top: 0;bottom: 0;left: 50%;z-index: -1;}#sk-container-id-5 div.sk-parallel-item {display: flex;flex-direction: column;z-index: 1;position: relative;background-color: white;}#sk-container-id-5 div.sk-parallel-item:first-child::after {align-self: flex-end;width: 50%;}#sk-container-id-5 div.sk-parallel-item:last-child::after {align-self: flex-start;width: 50%;}#sk-container-id-5 div.sk-parallel-item:only-child::after {width: 0;}#sk-container-id-5 div.sk-dashed-wrapped {border: 1px dashed gray;margin: 0 0.4em 0.5em 0.4em;box-sizing: border-box;padding-bottom: 0.4em;background-color: white;}#sk-container-id-5 div.sk-label label {font-family: monospace;font-weight: bold;display: inline-block;line-height: 1.2em;}#sk-container-id-5 div.sk-label-container {text-align: center;}#sk-container-id-5 div.sk-container {/* jupyter's `normalize.less` sets `[hidden] { display: none; }` but bootstrap.min.css set `[hidden] { display: none !important; }` so we also need the `!important` here to be able to override the default hidden behavior on the sphinx rendered scikit-learn.org. See: https://github.com/scikit-learn/scikit-learn/issues/21755 */display: inline-block !important;position: relative;}#sk-container-id-5 div.sk-text-repr-fallback {display: none;}</style><div id=\"sk-container-id-5\" class=\"sk-top-container\"><div class=\"sk-text-repr-fallback\"><pre>StandardScaler()</pre><b>In a Jupyter environment, please rerun this cell to show the HTML representation or trust the notebook. <br />On GitHub, the HTML representation is unable to render, please try loading this page with nbviewer.org.</b></div><div class=\"sk-container\" hidden><div class=\"sk-item\"><div class=\"sk-estimator sk-toggleable\"><input class=\"sk-toggleable__control sk-hidden--visually\" id=\"sk-estimator-id-5\" type=\"checkbox\" checked><label for=\"sk-estimator-id-5\" class=\"sk-toggleable__label sk-toggleable__label-arrow\">StandardScaler</label><div class=\"sk-toggleable__content\"><pre>StandardScaler()</pre></div></div></div></div></div>"
      ],
      "text/plain": [
       "StandardScaler()"
      ]
     },
     "execution_count": 72,
     "metadata": {},
     "output_type": "execute_result"
    }
   ],
   "source": [
    "#Scale the Data\n",
    "scaler = StandardScaler()\n",
    "scaler.fit(df)"
   ]
  },
  {
   "cell_type": "code",
   "execution_count": 73,
   "metadata": {},
   "outputs": [],
   "source": [
    "#Assign Variables to be Trained\n",
    "X = df[[\"k_percent\",\"bb_percent\",\"solidcontact_percent\",\"flareburner_percent\",\"poorlyweak_percent\",\"hard_hit_percent\"]]\n",
    "y = df[\"batting_avg\"]"
   ]
  },
  {
   "cell_type": "code",
   "execution_count": 74,
   "metadata": {},
   "outputs": [],
   "source": [
    "#Split the data into training & testing\n",
    "X_train, X_test, y_train, y_test = train_test_split(X, y , test_size=0.2, random_state = 50)\n"
   ]
  },
  {
   "cell_type": "code",
   "execution_count": 75,
   "metadata": {},
   "outputs": [],
   "source": [
    "#Create a Rabndom Forest Regressor Model\n",
    "rf_model = RandomForestRegressor(n_estimators=100, random_state=50)"
   ]
  },
  {
   "cell_type": "code",
   "execution_count": 76,
   "metadata": {},
   "outputs": [
    {
     "data": {
      "text/html": [
       "<style>#sk-container-id-6 {color: black;}#sk-container-id-6 pre{padding: 0;}#sk-container-id-6 div.sk-toggleable {background-color: white;}#sk-container-id-6 label.sk-toggleable__label {cursor: pointer;display: block;width: 100%;margin-bottom: 0;padding: 0.3em;box-sizing: border-box;text-align: center;}#sk-container-id-6 label.sk-toggleable__label-arrow:before {content: \"▸\";float: left;margin-right: 0.25em;color: #696969;}#sk-container-id-6 label.sk-toggleable__label-arrow:hover:before {color: black;}#sk-container-id-6 div.sk-estimator:hover label.sk-toggleable__label-arrow:before {color: black;}#sk-container-id-6 div.sk-toggleable__content {max-height: 0;max-width: 0;overflow: hidden;text-align: left;background-color: #f0f8ff;}#sk-container-id-6 div.sk-toggleable__content pre {margin: 0.2em;color: black;border-radius: 0.25em;background-color: #f0f8ff;}#sk-container-id-6 input.sk-toggleable__control:checked~div.sk-toggleable__content {max-height: 200px;max-width: 100%;overflow: auto;}#sk-container-id-6 input.sk-toggleable__control:checked~label.sk-toggleable__label-arrow:before {content: \"▾\";}#sk-container-id-6 div.sk-estimator input.sk-toggleable__control:checked~label.sk-toggleable__label {background-color: #d4ebff;}#sk-container-id-6 div.sk-label input.sk-toggleable__control:checked~label.sk-toggleable__label {background-color: #d4ebff;}#sk-container-id-6 input.sk-hidden--visually {border: 0;clip: rect(1px 1px 1px 1px);clip: rect(1px, 1px, 1px, 1px);height: 1px;margin: -1px;overflow: hidden;padding: 0;position: absolute;width: 1px;}#sk-container-id-6 div.sk-estimator {font-family: monospace;background-color: #f0f8ff;border: 1px dotted black;border-radius: 0.25em;box-sizing: border-box;margin-bottom: 0.5em;}#sk-container-id-6 div.sk-estimator:hover {background-color: #d4ebff;}#sk-container-id-6 div.sk-parallel-item::after {content: \"\";width: 100%;border-bottom: 1px solid gray;flex-grow: 1;}#sk-container-id-6 div.sk-label:hover label.sk-toggleable__label {background-color: #d4ebff;}#sk-container-id-6 div.sk-serial::before {content: \"\";position: absolute;border-left: 1px solid gray;box-sizing: border-box;top: 0;bottom: 0;left: 50%;z-index: 0;}#sk-container-id-6 div.sk-serial {display: flex;flex-direction: column;align-items: center;background-color: white;padding-right: 0.2em;padding-left: 0.2em;position: relative;}#sk-container-id-6 div.sk-item {position: relative;z-index: 1;}#sk-container-id-6 div.sk-parallel {display: flex;align-items: stretch;justify-content: center;background-color: white;position: relative;}#sk-container-id-6 div.sk-item::before, #sk-container-id-6 div.sk-parallel-item::before {content: \"\";position: absolute;border-left: 1px solid gray;box-sizing: border-box;top: 0;bottom: 0;left: 50%;z-index: -1;}#sk-container-id-6 div.sk-parallel-item {display: flex;flex-direction: column;z-index: 1;position: relative;background-color: white;}#sk-container-id-6 div.sk-parallel-item:first-child::after {align-self: flex-end;width: 50%;}#sk-container-id-6 div.sk-parallel-item:last-child::after {align-self: flex-start;width: 50%;}#sk-container-id-6 div.sk-parallel-item:only-child::after {width: 0;}#sk-container-id-6 div.sk-dashed-wrapped {border: 1px dashed gray;margin: 0 0.4em 0.5em 0.4em;box-sizing: border-box;padding-bottom: 0.4em;background-color: white;}#sk-container-id-6 div.sk-label label {font-family: monospace;font-weight: bold;display: inline-block;line-height: 1.2em;}#sk-container-id-6 div.sk-label-container {text-align: center;}#sk-container-id-6 div.sk-container {/* jupyter's `normalize.less` sets `[hidden] { display: none; }` but bootstrap.min.css set `[hidden] { display: none !important; }` so we also need the `!important` here to be able to override the default hidden behavior on the sphinx rendered scikit-learn.org. See: https://github.com/scikit-learn/scikit-learn/issues/21755 */display: inline-block !important;position: relative;}#sk-container-id-6 div.sk-text-repr-fallback {display: none;}</style><div id=\"sk-container-id-6\" class=\"sk-top-container\"><div class=\"sk-text-repr-fallback\"><pre>RandomForestRegressor(random_state=50)</pre><b>In a Jupyter environment, please rerun this cell to show the HTML representation or trust the notebook. <br />On GitHub, the HTML representation is unable to render, please try loading this page with nbviewer.org.</b></div><div class=\"sk-container\" hidden><div class=\"sk-item\"><div class=\"sk-estimator sk-toggleable\"><input class=\"sk-toggleable__control sk-hidden--visually\" id=\"sk-estimator-id-6\" type=\"checkbox\" checked><label for=\"sk-estimator-id-6\" class=\"sk-toggleable__label sk-toggleable__label-arrow\">RandomForestRegressor</label><div class=\"sk-toggleable__content\"><pre>RandomForestRegressor(random_state=50)</pre></div></div></div></div></div>"
      ],
      "text/plain": [
       "RandomForestRegressor(random_state=50)"
      ]
     },
     "execution_count": 76,
     "metadata": {},
     "output_type": "execute_result"
    }
   ],
   "source": [
    "#Train the Model\n",
    "rf_model.fit(X_train, y_train)"
   ]
  },
  {
   "cell_type": "code",
   "execution_count": 77,
   "metadata": {},
   "outputs": [
    {
     "name": "stdout",
     "output_type": "stream",
     "text": [
      "[0.31097 0.26275 0.244   0.27464 0.2297  0.31004 0.26548 0.26504 0.23762\n",
      " 0.2734  0.25447 0.26402 0.26269 0.26988 0.27279 0.24287 0.25725 0.29261\n",
      " 0.2615  0.26214 0.25403 0.25868 0.30427 0.23963 0.27235 0.28399 0.27188\n",
      " 0.24571 0.26315 0.25356 0.27173 0.24955 0.25696 0.26523 0.28524 0.2792\n",
      " 0.23343 0.25628 0.28313 0.2437  0.2485  0.2586  0.25152 0.25642 0.26458\n",
      " 0.24282 0.28186 0.24917 0.2659  0.2368  0.26967 0.23593 0.26862 0.26285\n",
      " 0.24268 0.27338 0.26285 0.26234 0.23114 0.30275 0.27542 0.29209 0.24457\n",
      " 0.28226 0.20651 0.26296 0.21699 0.24483 0.294   0.27404 0.26373 0.30361\n",
      " 0.28658 0.26995 0.26177 0.29976 0.26369 0.3006  0.27195 0.29388 0.24729\n",
      " 0.27041 0.2499  0.26327 0.28153 0.28035 0.30083 0.30676 0.2402  0.27144\n",
      " 0.27264 0.27345 0.2909  0.27333 0.27228 0.25502 0.25166 0.2566  0.28439\n",
      " 0.25049 0.25534 0.26771 0.22582 0.25518 0.21577 0.32942 0.27074 0.25268\n",
      " 0.28742 0.21686 0.24127 0.25872 0.26635 0.28761 0.26592 0.24838 0.24997\n",
      " 0.27083 0.25787 0.27306 0.24954 0.27461 0.28358 0.26529 0.23912 0.25662\n",
      " 0.23189 0.26263 0.25083 0.27334 0.28159 0.29027 0.30885 0.28878 0.24326\n",
      " 0.23666 0.26368 0.25874 0.27492 0.26819 0.26047 0.29451 0.25694 0.27312\n",
      " 0.29155 0.2343  0.28394 0.28523 0.27502 0.25576 0.23666 0.26221 0.24561\n",
      " 0.2888  0.2641  0.25593 0.30292 0.22524 0.28154 0.27539 0.2662  0.2791\n",
      " 0.27539 0.26044 0.25287 0.27281 0.27904 0.2803  0.25765 0.24628 0.25402\n",
      " 0.27932 0.26682 0.26974 0.25841 0.26289 0.25092 0.25045 0.27557 0.27838\n",
      " 0.24991 0.27253 0.24655 0.28313 0.25952 0.29523 0.24959 0.28155 0.27576\n",
      " 0.29107 0.26583 0.27913 0.26762 0.24413 0.26237 0.25299 0.26683 0.25509\n",
      " 0.23025 0.26333 0.28856 0.27264 0.28579 0.2779  0.26075 0.26972 0.2574\n",
      " 0.2722  0.22371 0.28465 0.25773 0.28208 0.26882 0.25724 0.26985 0.26331\n",
      " 0.2647  0.27855 0.23819 0.28193 0.25376 0.26273 0.28189 0.26944 0.28677\n",
      " 0.26953 0.257   0.27619 0.28225 0.27123 0.26389 0.28563 0.296   0.24735\n",
      " 0.26823 0.2919  0.30769 0.24478 0.285   0.24418 0.27441 0.27897 0.29387\n",
      " 0.26173 0.28892 0.25948 0.26672 0.27595 0.26764 0.21907 0.2673  0.27607\n",
      " 0.25828 0.25679 0.2799  0.25644 0.28388 0.27088 0.2418  0.27392 0.2749\n",
      " 0.27282 0.26429 0.23699 0.26886 0.29472 0.25025 0.2738  0.27008 0.22925\n",
      " 0.24739 0.27909 0.25641 0.2715  0.24416 0.26545 0.25419 0.25578 0.26554\n",
      " 0.29292 0.26071 0.26412 0.23382]\n"
     ]
    }
   ],
   "source": [
    "#Make Predictions\n",
    "predictions = rf_model.predict(X_test)\n",
    "print(predictions)\n"
   ]
  },
  {
   "cell_type": "code",
   "execution_count": 78,
   "metadata": {},
   "outputs": [
    {
     "name": "stdout",
     "output_type": "stream",
     "text": [
      "Mean 0.02119445229681979\n"
     ]
    }
   ],
   "source": [
    "mean = mean_absolute_error(y_test, predictions)\n",
    "print(\"Mean\", mean)"
   ]
  }
 ],
 "metadata": {
  "kernelspec": {
   "display_name": "Python 3",
   "language": "python",
   "name": "python3"
  },
  "language_info": {
   "codemirror_mode": {
    "name": "ipython",
    "version": 3
   },
   "file_extension": ".py",
   "mimetype": "text/x-python",
   "name": "python",
   "nbconvert_exporter": "python",
   "pygments_lexer": "ipython3",
   "version": "3.12.0"
  }
 },
 "nbformat": 4,
 "nbformat_minor": 2
}
