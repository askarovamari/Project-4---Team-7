{
 "cells": [
  {
   "cell_type": "code",
   "execution_count": null,
   "id": "7fa714f7-746c-4f81-a36b-bbbc94c30419",
   "metadata": {},
   "outputs": [],
   "source": [
    "# Required imports\n",
    "import pandas as pd\n",
    "import hvplot.pandas\n",
    "from pathlib import Path\n",
    "from sklearn.cluster import KMeans\n",
    "from sklearn.preprocessing import StandardScaler"
   ]
  },
  {
   "cell_type": "code",
   "execution_count": null,
   "id": "4721ffa9-3c44-4354-bc1b-45943031cb70",
   "metadata": {},
   "outputs": [],
   "source": [
    "# Read in the CSV file as a Pandas Dataframe\n",
    "df = pd.read_csv(\n",
    "    Path(\"..\")\n",
    ")\n",
    "\n",
    "df.head()"
   ]
  }
 ],
 "metadata": {
  "kernelspec": {
   "display_name": "Python 3 (ipykernel)",
   "language": "python",
   "name": "python3"
  },
  "language_info": {
   "codemirror_mode": {
    "name": "ipython",
    "version": 3
   },
   "file_extension": ".py",
   "mimetype": "text/x-python",
   "name": "python",
   "nbconvert_exporter": "python",
   "pygments_lexer": "ipython3",
   "version": "3.9.18"
  }
 },
 "nbformat": 4,
 "nbformat_minor": 5
}
