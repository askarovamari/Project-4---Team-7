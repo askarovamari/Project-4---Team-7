{
 "cells": [
  {
   "cell_type": "code",
   "execution_count": 4,
   "metadata": {},
   "outputs": [],
   "source": [
    "from sklearn.ensemble import RandomForestClassifier  # For classification\n",
    "from sklearn.ensemble import RandomForestRegressor   # For regression\n",
    "from sklearn.model_selection import train_test_split\n",
    "from sklearn.metrics import accuracy_score, mean_squared_error\n",
    "import pandas as pd\n",
    "from pathlib import Path\n"
   ]
  },
  {
   "cell_type": "code",
   "execution_count": 19,
   "metadata": {},
   "outputs": [
    {
     "name": "stderr",
     "output_type": "stream",
     "text": [
      "/var/folders/q8/t_k5gtj11z5dpr8r51m6nbz00000gn/T/ipykernel_81035/3791907618.py:6: SettingWithCopyWarning: \n",
      "A value is trying to be set on a copy of a slice from a DataFrame\n",
      "\n",
      "See the caveats in the documentation: https://pandas.pydata.org/pandas-docs/stable/user_guide/indexing.html#returning-a-view-versus-a-copy\n",
      "  dfFullYear.drop(columns=[\"player_id\", \"last_name, first_name\", 'year', 'ab', 'pa', 'hit', 'single', 'double', 'triple', 'out_zone_swing_miss',\n"
     ]
    },
    {
     "data": {
      "text/plain": [
       "Index(['player_age', 'k_percent', 'bb_percent', 'batting_avg', 'slg_percent',\n",
       "       'on_base_percent', 'on_base_plus_slg', 'isolated_power', 'babip',\n",
       "       'woba', 'wobacon', 'bacon', 'exit_velocity_avg', 'launch_angle_avg',\n",
       "       'sweet_spot_percent', 'barrel', 'barrel_batted_rate',\n",
       "       'solidcontact_percent', 'flareburner_percent', 'poorlyunder_percent',\n",
       "       'poorlytopped_percent', 'poorlyweak_percent', 'hard_hit_percent',\n",
       "       'avg_best_speed', 'avg_hyper_speed', 'z_swing_percent',\n",
       "       'z_swing_miss_percent', 'oz_swing_percent', 'oz_swing_miss_percent',\n",
       "       'oz_contact_percent', 'meatball_swing_percent', 'iz_contact_percent',\n",
       "       'whiff_percent', 'swing_percent', 'pull_percent',\n",
       "       'straightaway_percent', 'opposite_percent', 'f_strike_percent',\n",
       "       'groundballs_percent', 'flyballs_percent', 'linedrives_percent',\n",
       "       'popups_percent'],\n",
       "      dtype='object')"
      ]
     },
     "execution_count": 19,
     "metadata": {},
     "output_type": "execute_result"
    }
   ],
   "source": [
    "# Read in the CSV file as a Pandas Dataframe\n",
    "df = pd.read_csv(Path(\"resources/baseballData.csv\"))\n",
    "#ridding csv of partial seasons\n",
    "dfFullYear = df[~df['year'].isin([2020, 2024])]\n",
    "#dropping unesscessary columns\n",
    "dfFullYear.drop(columns=[\"player_id\", \"last_name, first_name\", 'year', 'ab', 'pa', 'hit', 'single', 'double', 'triple', 'out_zone_swing_miss',\n",
    "       'out_zone_swing', 'out_zone_percent', 'out_zone', 'in_zone_swing_miss',\n",
    "       'in_zone_swing','batted_ball', 'groundballs', 'flyballs', 'linedrives', 'popups',\n",
    "       'home_run', 'strikeout', 'walk'], inplace=True)\n",
    "dfFullYear.columns"
   ]
  }
 ],
 "metadata": {
  "kernelspec": {
   "display_name": "rickyEnv",
   "language": "python",
   "name": "python3"
  },
  "language_info": {
   "codemirror_mode": {
    "name": "ipython",
    "version": 3
   },
   "file_extension": ".py",
   "mimetype": "text/x-python",
   "name": "python",
   "nbconvert_exporter": "python",
   "pygments_lexer": "ipython3",
   "version": "3.11.8"
  }
 },
 "nbformat": 4,
 "nbformat_minor": 2
}
